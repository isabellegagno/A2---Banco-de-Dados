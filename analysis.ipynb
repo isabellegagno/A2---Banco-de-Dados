{
 "cells": [
  {
   "cell_type": "markdown",
   "metadata": {},
   "source": [
    "# Análise Exploratória Ideb (melhorar esse título)\n",
    "\n",
    "Esse trabalho consiste em uma análise exploratória dos dados do Índice de Desenvolvimento da Educação Básica (Ideb) nos municípios do estado do Rio de Janeiro.\n",
    "\n",
    "Utilizamos bases de dados retiradas do site [Base dos Dados](https://basedosdados.org/dataset/br-inep-ideb), com os dados do Ideb, e um arquivo GeoJSON retirado de [geodata-br](https://github.com/tbrugz/geodata-br), com os dados geográficos necessários dos municípios do Rio de Janeiro, para realizar as visualizações usando geopandas e outras ferramentas."
   ]
  },
  {
   "cell_type": "markdown",
   "metadata": {},
   "source": [
    "## Sumário\n",
    "\n",
    "* [Importação das bibliotecas](#pct)\n",
    "* [Preparação das bases](#bases)\n",
    "    * [Dados geográficos](#1base)\n",
    "    * [Dados IDEB](#2base)\n",
    "* [Criação do banco de dados](#banco)\n",
    "    * [Conexões entre as tabelas](#conn)\n",
    "    * [Adição de metadados](#meta)\n",
    "    * [Preparação para a análise](#pre_ana)\n",
    "* [Análise Exploratória](#analise)"
   ]
  },
  {
   "cell_type": "markdown",
   "metadata": {},
   "source": [
    "## Bibliotecas necessárias <a class=\"anchor\" id=\"pct\"></a>"
   ]
  },
  {
   "cell_type": "code",
   "execution_count": 1,
   "metadata": {},
   "outputs": [],
   "source": [
    "import numpy as np\n",
    "import pandas as pd\n",
    "import geopandas as gpd\n",
    "from sqlalchemy import create_engine\n",
    "from geoalchemy2 import Geometry\n",
    "import sqlite3\n",
    "import matplotlib\n",
    "from shapely import wkt #converter de string para geometry\n",
    "import mapclassify #para plotar os gráficos"
   ]
  },
  {
   "cell_type": "markdown",
   "metadata": {},
   "source": [
    "## Preparação das as bases <a class=\"anchor\" id=\"bases\"></a>"
   ]
  },
  {
   "cell_type": "markdown",
   "metadata": {},
   "source": [
    "### Dados geográficos <a class=\"anchor\" id=\"1base\"></a>"
   ]
  },
  {
   "cell_type": "markdown",
   "metadata": {},
   "source": [
    "A primeira base consiste nos dados geográficos dos municípios do Rio de Janeiro que vamos utilizar para plotar os mapas."
   ]
  },
  {
   "cell_type": "markdown",
   "metadata": {},
   "source": [
    "Usamos o [DownGit](https://downgit.github.io/#/home) para fazer o download do `.json` do [ Repositório Telmo](https://github.com/tbrugz/geodata-br/blob/master/geojson/geojs-33-mun.json)"
   ]
  },
  {
   "cell_type": "code",
   "execution_count": 2,
   "metadata": {},
   "outputs": [
    {
     "name": "stdout",
     "output_type": "stream",
     "text": [
      "<class 'geopandas.geodataframe.GeoDataFrame'>\n"
     ]
    },
    {
     "data": {
      "text/html": [
       "<div>\n",
       "<style scoped>\n",
       "    .dataframe tbody tr th:only-of-type {\n",
       "        vertical-align: middle;\n",
       "    }\n",
       "\n",
       "    .dataframe tbody tr th {\n",
       "        vertical-align: top;\n",
       "    }\n",
       "\n",
       "    .dataframe thead th {\n",
       "        text-align: right;\n",
       "    }\n",
       "</style>\n",
       "<table border=\"1\" class=\"dataframe\">\n",
       "  <thead>\n",
       "    <tr style=\"text-align: right;\">\n",
       "      <th></th>\n",
       "      <th>id</th>\n",
       "      <th>name</th>\n",
       "      <th>geometry</th>\n",
       "    </tr>\n",
       "  </thead>\n",
       "  <tbody>\n",
       "    <tr>\n",
       "      <th>0</th>\n",
       "      <td>3300100</td>\n",
       "      <td>Angra dos Reis</td>\n",
       "      <td>POLYGON ((-44.19557 -23.09831, -44.19445 -23.1...</td>\n",
       "    </tr>\n",
       "    <tr>\n",
       "      <th>1</th>\n",
       "      <td>3300159</td>\n",
       "      <td>Aperibé</td>\n",
       "      <td>POLYGON ((-42.11517 -21.60398, -42.11585 -21.6...</td>\n",
       "    </tr>\n",
       "    <tr>\n",
       "      <th>2</th>\n",
       "      <td>3300209</td>\n",
       "      <td>Araruama</td>\n",
       "      <td>POLYGON ((-42.18220 -22.55217, -42.13226 -22.6...</td>\n",
       "    </tr>\n",
       "    <tr>\n",
       "      <th>3</th>\n",
       "      <td>3300225</td>\n",
       "      <td>Areal</td>\n",
       "      <td>POLYGON ((-43.05873 -22.18937, -43.04773 -22.2...</td>\n",
       "    </tr>\n",
       "    <tr>\n",
       "      <th>4</th>\n",
       "      <td>3300233</td>\n",
       "      <td>Armação dos Búzios</td>\n",
       "      <td>POLYGON ((-41.93436 -22.76580, -41.91900 -22.7...</td>\n",
       "    </tr>\n",
       "  </tbody>\n",
       "</table>\n",
       "</div>"
      ],
      "text/plain": [
       "        id                name  \\\n",
       "0  3300100      Angra dos Reis   \n",
       "1  3300159             Aperibé   \n",
       "2  3300209            Araruama   \n",
       "3  3300225               Areal   \n",
       "4  3300233  Armação dos Búzios   \n",
       "\n",
       "                                            geometry  \n",
       "0  POLYGON ((-44.19557 -23.09831, -44.19445 -23.1...  \n",
       "1  POLYGON ((-42.11517 -21.60398, -42.11585 -21.6...  \n",
       "2  POLYGON ((-42.18220 -22.55217, -42.13226 -22.6...  \n",
       "3  POLYGON ((-43.05873 -22.18937, -43.04773 -22.2...  \n",
       "4  POLYGON ((-41.93436 -22.76580, -41.91900 -22.7...  "
      ]
     },
     "execution_count": 2,
     "metadata": {},
     "output_type": "execute_result"
    }
   ],
   "source": [
    "zipfile = \"geojs-33-mun.json.zip\"\n",
    "rio_municipios = gpd.read_file(zipfile)\n",
    "rio_municipios = rio_municipios.drop(columns = 'description') #A coluna description é igual à coluna name, então vamos retirá-la\n",
    "\n",
    "print(type(rio_municipios))\n",
    "\n",
    "rio_municipios.head()"
   ]
  },
  {
   "cell_type": "markdown",
   "metadata": {},
   "source": [
    "### Dados IDEB <a class=\"anchor\" id=\"2base\"></a>"
   ]
  },
  {
   "cell_type": "markdown",
   "metadata": {},
   "source": [
    "Já a segunda base reúne todos os dados sobre o Índice de Desenvolvimento da Educação Básica (Ideb). Vamos filtrá-la e utilizar apenas os dados referentes ao estado do Rio."
   ]
  },
  {
   "cell_type": "code",
   "execution_count": 3,
   "metadata": {},
   "outputs": [
    {
     "data": {
      "text/html": [
       "<div>\n",
       "<style scoped>\n",
       "    .dataframe tbody tr th:only-of-type {\n",
       "        vertical-align: middle;\n",
       "    }\n",
       "\n",
       "    .dataframe tbody tr th {\n",
       "        vertical-align: top;\n",
       "    }\n",
       "\n",
       "    .dataframe thead th {\n",
       "        text-align: right;\n",
       "    }\n",
       "</style>\n",
       "<table border=\"1\" class=\"dataframe\">\n",
       "  <thead>\n",
       "    <tr style=\"text-align: right;\">\n",
       "      <th></th>\n",
       "      <th>ano</th>\n",
       "      <th>sigla_uf</th>\n",
       "      <th>id_municipio</th>\n",
       "      <th>rede</th>\n",
       "      <th>ensino</th>\n",
       "      <th>anos_escolares</th>\n",
       "      <th>taxa_aprovacao</th>\n",
       "      <th>indicador_rendimento</th>\n",
       "      <th>nota_saeb_matematica</th>\n",
       "      <th>nota_saeb_lingua_portuguesa</th>\n",
       "      <th>nota_saeb_media_padronizada</th>\n",
       "      <th>ideb</th>\n",
       "      <th>projecao</th>\n",
       "      <th>geometry</th>\n",
       "    </tr>\n",
       "  </thead>\n",
       "  <tbody>\n",
       "    <tr>\n",
       "      <th>0</th>\n",
       "      <td>2005</td>\n",
       "      <td>AC</td>\n",
       "      <td>1200013</td>\n",
       "      <td>estadual</td>\n",
       "      <td>fundamental</td>\n",
       "      <td>finais (6-9)</td>\n",
       "      <td>90</td>\n",
       "      <td>0.89959502</td>\n",
       "      <td>223.3</td>\n",
       "      <td>209.69</td>\n",
       "      <td>3.88221</td>\n",
       "      <td>3.5</td>\n",
       "      <td></td>\n",
       "      <td>None</td>\n",
       "    </tr>\n",
       "    <tr>\n",
       "      <th>1</th>\n",
       "      <td>2005</td>\n",
       "      <td>AC</td>\n",
       "      <td>1200013</td>\n",
       "      <td>estadual</td>\n",
       "      <td>fundamental</td>\n",
       "      <td>iniciais (1-5)</td>\n",
       "      <td>80.4</td>\n",
       "      <td>0.76059997</td>\n",
       "      <td>167.8</td>\n",
       "      <td>154.39</td>\n",
       "      <td>3.972965</td>\n",
       "      <td>3</td>\n",
       "      <td></td>\n",
       "      <td>None</td>\n",
       "    </tr>\n",
       "    <tr>\n",
       "      <th>2</th>\n",
       "      <td>2005</td>\n",
       "      <td>AC</td>\n",
       "      <td>1200013</td>\n",
       "      <td>municipal</td>\n",
       "      <td>fundamental</td>\n",
       "      <td>finais (6-9)</td>\n",
       "      <td></td>\n",
       "      <td></td>\n",
       "      <td></td>\n",
       "      <td></td>\n",
       "      <td></td>\n",
       "      <td></td>\n",
       "      <td></td>\n",
       "      <td>None</td>\n",
       "    </tr>\n",
       "    <tr>\n",
       "      <th>3</th>\n",
       "      <td>2005</td>\n",
       "      <td>AC</td>\n",
       "      <td>1200013</td>\n",
       "      <td>municipal</td>\n",
       "      <td>fundamental</td>\n",
       "      <td>iniciais (1-5)</td>\n",
       "      <td>66.3</td>\n",
       "      <td>0.68155998</td>\n",
       "      <td>169.8</td>\n",
       "      <td>163</td>\n",
       "      <td>4.1680932</td>\n",
       "      <td>2.8</td>\n",
       "      <td></td>\n",
       "      <td>None</td>\n",
       "    </tr>\n",
       "    <tr>\n",
       "      <th>4</th>\n",
       "      <td>2005</td>\n",
       "      <td>AC</td>\n",
       "      <td>1200013</td>\n",
       "      <td>publica</td>\n",
       "      <td>fundamental</td>\n",
       "      <td>finais (6-9)</td>\n",
       "      <td>89</td>\n",
       "      <td>0.89366102</td>\n",
       "      <td>223.3</td>\n",
       "      <td>209.69</td>\n",
       "      <td>3.8821671</td>\n",
       "      <td>3.5</td>\n",
       "      <td></td>\n",
       "      <td>None</td>\n",
       "    </tr>\n",
       "  </tbody>\n",
       "</table>\n",
       "</div>"
      ],
      "text/plain": [
       "    ano sigla_uf id_municipio       rede       ensino  anos_escolares  \\\n",
       "0  2005       AC      1200013   estadual  fundamental    finais (6-9)   \n",
       "1  2005       AC      1200013   estadual  fundamental  iniciais (1-5)   \n",
       "2  2005       AC      1200013  municipal  fundamental    finais (6-9)   \n",
       "3  2005       AC      1200013  municipal  fundamental  iniciais (1-5)   \n",
       "4  2005       AC      1200013    publica  fundamental    finais (6-9)   \n",
       "\n",
       "  taxa_aprovacao indicador_rendimento nota_saeb_matematica  \\\n",
       "0             90           0.89959502                223.3   \n",
       "1           80.4           0.76059997                167.8   \n",
       "2                                                            \n",
       "3           66.3           0.68155998                169.8   \n",
       "4             89           0.89366102                223.3   \n",
       "\n",
       "  nota_saeb_lingua_portuguesa nota_saeb_media_padronizada ideb projecao  \\\n",
       "0                      209.69                     3.88221  3.5            \n",
       "1                      154.39                    3.972965    3            \n",
       "2                                                                         \n",
       "3                         163                   4.1680932  2.8            \n",
       "4                      209.69                   3.8821671  3.5            \n",
       "\n",
       "  geometry  \n",
       "0     None  \n",
       "1     None  \n",
       "2     None  \n",
       "3     None  \n",
       "4     None  "
      ]
     },
     "execution_count": 3,
     "metadata": {},
     "output_type": "execute_result"
    }
   ],
   "source": [
    "csvfile = \"municipio.csv\"\n",
    "municipio = gpd.read_file(csvfile)\n",
    "municipio.head()"
   ]
  },
  {
   "cell_type": "markdown",
   "metadata": {},
   "source": [
    "Filtrando a base para selecionar apenas os dados desejados:"
   ]
  },
  {
   "cell_type": "code",
   "execution_count": 4,
   "metadata": {},
   "outputs": [
    {
     "data": {
      "text/html": [
       "<div>\n",
       "<style scoped>\n",
       "    .dataframe tbody tr th:only-of-type {\n",
       "        vertical-align: middle;\n",
       "    }\n",
       "\n",
       "    .dataframe tbody tr th {\n",
       "        vertical-align: top;\n",
       "    }\n",
       "\n",
       "    .dataframe thead th {\n",
       "        text-align: right;\n",
       "    }\n",
       "</style>\n",
       "<table border=\"1\" class=\"dataframe\">\n",
       "  <thead>\n",
       "    <tr style=\"text-align: right;\">\n",
       "      <th></th>\n",
       "      <th>ano</th>\n",
       "      <th>sigla_uf</th>\n",
       "      <th>id_municipio</th>\n",
       "      <th>rede</th>\n",
       "      <th>ensino</th>\n",
       "      <th>anos_escolares</th>\n",
       "      <th>taxa_aprovacao</th>\n",
       "      <th>indicador_rendimento</th>\n",
       "      <th>nota_saeb_matematica</th>\n",
       "      <th>nota_saeb_lingua_portuguesa</th>\n",
       "      <th>nota_saeb_media_padronizada</th>\n",
       "      <th>ideb</th>\n",
       "    </tr>\n",
       "  </thead>\n",
       "  <tbody>\n",
       "    <tr>\n",
       "      <th>280698</th>\n",
       "      <td>2021</td>\n",
       "      <td>RJ</td>\n",
       "      <td>3306305</td>\n",
       "      <td>municipal</td>\n",
       "      <td>fundamental</td>\n",
       "      <td>iniciais (1-5)</td>\n",
       "      <td></td>\n",
       "      <td></td>\n",
       "      <td></td>\n",
       "      <td></td>\n",
       "      <td></td>\n",
       "      <td></td>\n",
       "    </tr>\n",
       "    <tr>\n",
       "      <th>280699</th>\n",
       "      <td>2021</td>\n",
       "      <td>RJ</td>\n",
       "      <td>3306305</td>\n",
       "      <td>municipal</td>\n",
       "      <td>medio</td>\n",
       "      <td>todos (1-4)</td>\n",
       "      <td></td>\n",
       "      <td></td>\n",
       "      <td></td>\n",
       "      <td></td>\n",
       "      <td></td>\n",
       "      <td></td>\n",
       "    </tr>\n",
       "    <tr>\n",
       "      <th>280700</th>\n",
       "      <td>2021</td>\n",
       "      <td>RJ</td>\n",
       "      <td>3306305</td>\n",
       "      <td>publica</td>\n",
       "      <td>fundamental</td>\n",
       "      <td>finais (6-9)</td>\n",
       "      <td></td>\n",
       "      <td></td>\n",
       "      <td></td>\n",
       "      <td></td>\n",
       "      <td></td>\n",
       "      <td></td>\n",
       "    </tr>\n",
       "    <tr>\n",
       "      <th>280701</th>\n",
       "      <td>2021</td>\n",
       "      <td>RJ</td>\n",
       "      <td>3306305</td>\n",
       "      <td>publica</td>\n",
       "      <td>fundamental</td>\n",
       "      <td>iniciais (1-5)</td>\n",
       "      <td></td>\n",
       "      <td></td>\n",
       "      <td></td>\n",
       "      <td></td>\n",
       "      <td></td>\n",
       "      <td></td>\n",
       "    </tr>\n",
       "    <tr>\n",
       "      <th>280702</th>\n",
       "      <td>2021</td>\n",
       "      <td>RJ</td>\n",
       "      <td>3306305</td>\n",
       "      <td>publica</td>\n",
       "      <td>medio</td>\n",
       "      <td>todos (1-4)</td>\n",
       "      <td></td>\n",
       "      <td></td>\n",
       "      <td></td>\n",
       "      <td></td>\n",
       "      <td></td>\n",
       "      <td></td>\n",
       "    </tr>\n",
       "  </tbody>\n",
       "</table>\n",
       "</div>"
      ],
      "text/plain": [
       "         ano sigla_uf id_municipio       rede       ensino  anos_escolares  \\\n",
       "280698  2021       RJ      3306305  municipal  fundamental  iniciais (1-5)   \n",
       "280699  2021       RJ      3306305  municipal        medio     todos (1-4)   \n",
       "280700  2021       RJ      3306305    publica  fundamental    finais (6-9)   \n",
       "280701  2021       RJ      3306305    publica  fundamental  iniciais (1-5)   \n",
       "280702  2021       RJ      3306305    publica        medio     todos (1-4)   \n",
       "\n",
       "       taxa_aprovacao indicador_rendimento nota_saeb_matematica  \\\n",
       "280698                                                            \n",
       "280699                                                            \n",
       "280700                                                            \n",
       "280701                                                            \n",
       "280702                                                            \n",
       "\n",
       "       nota_saeb_lingua_portuguesa nota_saeb_media_padronizada ideb  \n",
       "280698                                                               \n",
       "280699                                                               \n",
       "280700                                                               \n",
       "280701                                                               \n",
       "280702                                                               "
      ]
     },
     "execution_count": 4,
     "metadata": {},
     "output_type": "execute_result"
    }
   ],
   "source": [
    "dados_rio = municipio[municipio['sigla_uf'] == \"RJ\"]\n",
    "dados_rio = dados_rio.drop(columns = ['projecao','geometry']) #deleta a coluna projecao, pois há poucos dados sobre ela, e  a coluna\n",
    " #geometry pois essa base não possui esse tipo de dado\n",
    "dados_rio.tail()"
   ]
  },
  {
   "cell_type": "markdown",
   "metadata": {},
   "source": [
    "Aproveitamos para deletar as linhas com dados faltantes e assim facilitar as nossas análises."
   ]
  },
  {
   "cell_type": "code",
   "execution_count": 5,
   "metadata": {},
   "outputs": [
    {
     "data": {
      "text/html": [
       "<div>\n",
       "<style scoped>\n",
       "    .dataframe tbody tr th:only-of-type {\n",
       "        vertical-align: middle;\n",
       "    }\n",
       "\n",
       "    .dataframe tbody tr th {\n",
       "        vertical-align: top;\n",
       "    }\n",
       "\n",
       "    .dataframe thead th {\n",
       "        text-align: right;\n",
       "    }\n",
       "</style>\n",
       "<table border=\"1\" class=\"dataframe\">\n",
       "  <thead>\n",
       "    <tr style=\"text-align: right;\">\n",
       "      <th></th>\n",
       "      <th>ano</th>\n",
       "      <th>sigla_uf</th>\n",
       "      <th>id_municipio</th>\n",
       "      <th>rede</th>\n",
       "      <th>ensino</th>\n",
       "      <th>anos_escolares</th>\n",
       "      <th>taxa_aprovacao</th>\n",
       "      <th>indicador_rendimento</th>\n",
       "      <th>nota_saeb_matematica</th>\n",
       "      <th>nota_saeb_lingua_portuguesa</th>\n",
       "      <th>nota_saeb_media_padronizada</th>\n",
       "      <th>ideb</th>\n",
       "    </tr>\n",
       "    <tr>\n",
       "      <th>id_dado</th>\n",
       "      <th></th>\n",
       "      <th></th>\n",
       "      <th></th>\n",
       "      <th></th>\n",
       "      <th></th>\n",
       "      <th></th>\n",
       "      <th></th>\n",
       "      <th></th>\n",
       "      <th></th>\n",
       "      <th></th>\n",
       "      <th></th>\n",
       "      <th></th>\n",
       "    </tr>\n",
       "  </thead>\n",
       "  <tbody>\n",
       "    <tr>\n",
       "      <th>18479</th>\n",
       "      <td>2005</td>\n",
       "      <td>RJ</td>\n",
       "      <td>3300100</td>\n",
       "      <td>estadual</td>\n",
       "      <td>fundamental</td>\n",
       "      <td>finais (6-9)</td>\n",
       "      <td>69.6</td>\n",
       "      <td>0.69632202</td>\n",
       "      <td>241.39</td>\n",
       "      <td>230.69</td>\n",
       "      <td>4.5339708</td>\n",
       "      <td>3.2</td>\n",
       "    </tr>\n",
       "    <tr>\n",
       "      <th>18480</th>\n",
       "      <td>2005</td>\n",
       "      <td>RJ</td>\n",
       "      <td>3300100</td>\n",
       "      <td>estadual</td>\n",
       "      <td>fundamental</td>\n",
       "      <td>iniciais (1-5)</td>\n",
       "      <td>81.5</td>\n",
       "      <td>0.81477797</td>\n",
       "      <td>179.8</td>\n",
       "      <td>173</td>\n",
       "      <td>4.5396662</td>\n",
       "      <td>3.7</td>\n",
       "    </tr>\n",
       "    <tr>\n",
       "      <th>18481</th>\n",
       "      <td>2005</td>\n",
       "      <td>RJ</td>\n",
       "      <td>3300100</td>\n",
       "      <td>municipal</td>\n",
       "      <td>fundamental</td>\n",
       "      <td>finais (6-9)</td>\n",
       "      <td>69.2</td>\n",
       "      <td>0.70024502</td>\n",
       "      <td>247.19</td>\n",
       "      <td>236</td>\n",
       "      <td>4.7203331</td>\n",
       "      <td>3.3</td>\n",
       "    </tr>\n",
       "    <tr>\n",
       "      <th>18482</th>\n",
       "      <td>2005</td>\n",
       "      <td>RJ</td>\n",
       "      <td>3300100</td>\n",
       "      <td>municipal</td>\n",
       "      <td>fundamental</td>\n",
       "      <td>iniciais (1-5)</td>\n",
       "      <td>73.9</td>\n",
       "      <td>0.73932397</td>\n",
       "      <td>189.39</td>\n",
       "      <td>182.19</td>\n",
       "      <td>4.8886571</td>\n",
       "      <td>3.6</td>\n",
       "    </tr>\n",
       "    <tr>\n",
       "      <th>18483</th>\n",
       "      <td>2005</td>\n",
       "      <td>RJ</td>\n",
       "      <td>3300100</td>\n",
       "      <td>publica</td>\n",
       "      <td>fundamental</td>\n",
       "      <td>finais (6-9)</td>\n",
       "      <td>69.4</td>\n",
       "      <td>0.69687301</td>\n",
       "      <td>242.89</td>\n",
       "      <td>232</td>\n",
       "      <td>4.5811672</td>\n",
       "      <td>3.2</td>\n",
       "    </tr>\n",
       "    <tr>\n",
       "      <th>...</th>\n",
       "      <td>...</td>\n",
       "      <td>...</td>\n",
       "      <td>...</td>\n",
       "      <td>...</td>\n",
       "      <td>...</td>\n",
       "      <td>...</td>\n",
       "      <td>...</td>\n",
       "      <td>...</td>\n",
       "      <td>...</td>\n",
       "      <td>...</td>\n",
       "      <td>...</td>\n",
       "      <td>...</td>\n",
       "    </tr>\n",
       "    <tr>\n",
       "      <th>240234</th>\n",
       "      <td>2019</td>\n",
       "      <td>RJ</td>\n",
       "      <td>3306305</td>\n",
       "      <td>municipal</td>\n",
       "      <td>fundamental</td>\n",
       "      <td>iniciais (1-5)</td>\n",
       "      <td>91.8</td>\n",
       "      <td>0.91792399</td>\n",
       "      <td>242.47</td>\n",
       "      <td>230.5</td>\n",
       "      <td>6.782443</td>\n",
       "      <td>6.2</td>\n",
       "    </tr>\n",
       "    <tr>\n",
       "      <th>240235</th>\n",
       "      <td>2019</td>\n",
       "      <td>RJ</td>\n",
       "      <td>3306305</td>\n",
       "      <td>municipal</td>\n",
       "      <td>medio</td>\n",
       "      <td>todos (1-4)</td>\n",
       "      <td>86.1</td>\n",
       "      <td>0.86114401</td>\n",
       "      <td>315.45</td>\n",
       "      <td>307.6</td>\n",
       "      <td>5.7250719</td>\n",
       "      <td>4.9</td>\n",
       "    </tr>\n",
       "    <tr>\n",
       "      <th>240236</th>\n",
       "      <td>2019</td>\n",
       "      <td>RJ</td>\n",
       "      <td>3306305</td>\n",
       "      <td>publica</td>\n",
       "      <td>fundamental</td>\n",
       "      <td>finais (6-9)</td>\n",
       "      <td>88.8</td>\n",
       "      <td>0.888152</td>\n",
       "      <td>272.42</td>\n",
       "      <td>264.8</td>\n",
       "      <td>5.6205001</td>\n",
       "      <td>5</td>\n",
       "    </tr>\n",
       "    <tr>\n",
       "      <th>240237</th>\n",
       "      <td>2019</td>\n",
       "      <td>RJ</td>\n",
       "      <td>3306305</td>\n",
       "      <td>publica</td>\n",
       "      <td>fundamental</td>\n",
       "      <td>iniciais (1-5)</td>\n",
       "      <td>91.8</td>\n",
       "      <td>0.91771501</td>\n",
       "      <td>242.47</td>\n",
       "      <td>230.5</td>\n",
       "      <td>6.782443</td>\n",
       "      <td>6.2</td>\n",
       "    </tr>\n",
       "    <tr>\n",
       "      <th>240238</th>\n",
       "      <td>2019</td>\n",
       "      <td>RJ</td>\n",
       "      <td>3306305</td>\n",
       "      <td>publica</td>\n",
       "      <td>medio</td>\n",
       "      <td>todos (1-4)</td>\n",
       "      <td>83.6</td>\n",
       "      <td>0.83630103</td>\n",
       "      <td>286.57</td>\n",
       "      <td>286.23</td>\n",
       "      <td>4.9992542</td>\n",
       "      <td>4.2</td>\n",
       "    </tr>\n",
       "  </tbody>\n",
       "</table>\n",
       "<p>4288 rows × 12 columns</p>\n",
       "</div>"
      ],
      "text/plain": [
       "          ano sigla_uf id_municipio       rede       ensino  anos_escolares  \\\n",
       "id_dado                                                                       \n",
       "18479    2005       RJ      3300100   estadual  fundamental    finais (6-9)   \n",
       "18480    2005       RJ      3300100   estadual  fundamental  iniciais (1-5)   \n",
       "18481    2005       RJ      3300100  municipal  fundamental    finais (6-9)   \n",
       "18482    2005       RJ      3300100  municipal  fundamental  iniciais (1-5)   \n",
       "18483    2005       RJ      3300100    publica  fundamental    finais (6-9)   \n",
       "...       ...      ...          ...        ...          ...             ...   \n",
       "240234   2019       RJ      3306305  municipal  fundamental  iniciais (1-5)   \n",
       "240235   2019       RJ      3306305  municipal        medio     todos (1-4)   \n",
       "240236   2019       RJ      3306305    publica  fundamental    finais (6-9)   \n",
       "240237   2019       RJ      3306305    publica  fundamental  iniciais (1-5)   \n",
       "240238   2019       RJ      3306305    publica        medio     todos (1-4)   \n",
       "\n",
       "        taxa_aprovacao indicador_rendimento nota_saeb_matematica  \\\n",
       "id_dado                                                            \n",
       "18479             69.6           0.69632202               241.39   \n",
       "18480             81.5           0.81477797                179.8   \n",
       "18481             69.2           0.70024502               247.19   \n",
       "18482             73.9           0.73932397               189.39   \n",
       "18483             69.4           0.69687301               242.89   \n",
       "...                ...                  ...                  ...   \n",
       "240234            91.8           0.91792399               242.47   \n",
       "240235            86.1           0.86114401               315.45   \n",
       "240236            88.8             0.888152               272.42   \n",
       "240237            91.8           0.91771501               242.47   \n",
       "240238            83.6           0.83630103               286.57   \n",
       "\n",
       "        nota_saeb_lingua_portuguesa nota_saeb_media_padronizada ideb  \n",
       "id_dado                                                               \n",
       "18479                        230.69                   4.5339708  3.2  \n",
       "18480                           173                   4.5396662  3.7  \n",
       "18481                           236                   4.7203331  3.3  \n",
       "18482                        182.19                   4.8886571  3.6  \n",
       "18483                           232                   4.5811672  3.2  \n",
       "...                             ...                         ...  ...  \n",
       "240234                        230.5                    6.782443  6.2  \n",
       "240235                        307.6                   5.7250719  4.9  \n",
       "240236                        264.8                   5.6205001    5  \n",
       "240237                        230.5                    6.782443  6.2  \n",
       "240238                       286.23                   4.9992542  4.2  \n",
       "\n",
       "[4288 rows x 12 columns]"
      ]
     },
     "execution_count": 5,
     "metadata": {},
     "output_type": "execute_result"
    }
   ],
   "source": [
    "dados_rio['taxa_aprovacao'].replace('', np.nan, inplace=True)\n",
    "dados_rio.dropna(subset=['taxa_aprovacao'], inplace=True)\n",
    "dados_rio.index.names = [\"id_dado\"]\n",
    "dados_rio"
   ]
  },
  {
   "cell_type": "markdown",
   "metadata": {},
   "source": [
    "## Criação do banco de dados <a class=\"anchor\" id=\"banco\"></a>"
   ]
  },
  {
   "cell_type": "markdown",
   "metadata": {},
   "source": [
    "Primeiro criamos a conexão e a tabela vazia "
   ]
  },
  {
   "cell_type": "code",
   "execution_count": 6,
   "metadata": {},
   "outputs": [],
   "source": [
    "conn = sqlite3.connect('ideb-database.db')\n",
    "cur = conn.cursor()"
   ]
  },
  {
   "cell_type": "code",
   "execution_count": 7,
   "metadata": {},
   "outputs": [],
   "source": [
    "cur.execute('''CREATE TABLE IF NOT EXISTS municipios_rio\n",
    "             ('id_municipio' INT PRIMARY KEY NOT NULL,\n",
    "             'name' text, \n",
    "             'geometry' text)''')\n",
    "conn.commit()"
   ]
  },
  {
   "cell_type": "markdown",
   "metadata": {},
   "source": [
    "Como não é possível passar o dataframe em Geopandas para o banco de dados, convertemos a tabela para Pandas e a coluna geometry para string"
   ]
  },
  {
   "cell_type": "code",
   "execution_count": 8,
   "metadata": {},
   "outputs": [],
   "source": [
    "rio_municipios_pd = pd.DataFrame(rio_municipios)\n",
    "rio_municipios_pd['geometry'] = rio_municipios_pd['geometry'].astype(str)"
   ]
  },
  {
   "cell_type": "code",
   "execution_count": 9,
   "metadata": {},
   "outputs": [],
   "source": [
    "rio_municipios_pd.to_sql('municipios_rio', con=conn, if_exists='replace')\n",
    "conn.commit()"
   ]
  },
  {
   "cell_type": "markdown",
   "metadata": {},
   "source": [
    "Para checar que os dados foram adicionados na tabela, inicialmente vazia, fizemos uma query teste"
   ]
  },
  {
   "cell_type": "code",
   "execution_count": 10,
   "metadata": {},
   "outputs": [
    {
     "name": "stdout",
     "output_type": "stream",
     "text": [
      "[('Angra dos Reis',), ('Aperibé',), ('Araruama',), ('Areal',), ('Armação dos Búzios',), ('Arraial do Cabo',), ('Barra do Piraí',), ('Barra Mansa',), ('Belford Roxo',), ('Bom Jardim',)]\n"
     ]
    }
   ],
   "source": [
    "cur.execute(\"SELECT name FROM municipios_rio\")\n",
    "print(cur.fetchmany(10))"
   ]
  },
  {
   "cell_type": "markdown",
   "metadata": {},
   "source": [
    "O mesmo procedimento é realizado para o dataframe `dados_rio`, criando a tabela vazia, convertendo para Pandas e depois dazendo uma query teste"
   ]
  },
  {
   "cell_type": "code",
   "execution_count": 11,
   "metadata": {},
   "outputs": [],
   "source": [
    "cur.execute('''CREATE TABLE IF NOT EXISTS dados_ideb_rio\n",
    "             ('id_dado' INT PRIMARY KEY NOT NULL,\n",
    "             'ano' INT NOT NULL,\n",
    "             'sigla_uf' text,\n",
    "             'id_municipio' INT NOT NULL,\n",
    "             'rede' TEXT ,\n",
    "             'ensino' TEXT,\n",
    "             'anos_escolares' TEXT,\n",
    "             'taxa_aprovacao' REAL,\n",
    "             'indicador_rendimento' REAL,\n",
    "             'nota_saeb_matematica' REAL,\n",
    "             'nota_saeb_lingua_portuguesa' REAL,\n",
    "             'nota_saeb_media_padronizada' REAL,\n",
    "             'ideb' REAL)''')\n",
    "conn.commit()"
   ]
  },
  {
   "cell_type": "code",
   "execution_count": 12,
   "metadata": {},
   "outputs": [],
   "source": [
    "dados_rio.to_sql('dados_ideb_rio', con=conn, if_exists='replace')\n",
    "conn.commit()"
   ]
  },
  {
   "cell_type": "code",
   "execution_count": 13,
   "metadata": {},
   "outputs": [
    {
     "name": "stdout",
     "output_type": "stream",
     "text": [
      "[(18479,), (18480,), (18481,), (18482,), (18483,), (18484,), (18485,), (18488,), (18489,), (18490,)]\n"
     ]
    }
   ],
   "source": [
    "cur.execute(\"SELECT id_dado FROM dados_ideb_rio\")\n",
    "print(cur.fetchmany(10))"
   ]
  },
  {
   "cell_type": "markdown",
   "metadata": {},
   "source": [
    "### Conexões entre as tabelas <a class=\"anchor\" id=\"conn\"></a>"
   ]
  },
  {
   "cell_type": "markdown",
   "metadata": {},
   "source": [
    "Cria uma tabela que relaciona as duas outras"
   ]
  },
  {
   "cell_type": "code",
   "execution_count": 14,
   "metadata": {},
   "outputs": [],
   "source": [
    "cur.execute('''CREATE TABLE IF NOT EXISTS rel_municipios\n",
    "             ('id_rel' INTEGER PRIMARY KEY AUTOINCREMENT,\n",
    "              'id_dado' INT,\n",
    "              'id_municipio' INT,\n",
    "               FOREIGN KEY (id_dado)\n",
    "                    REFERENCES dados_ideb_rio (id_dado)\n",
    "               FOREIGN KEY (id_municipio)\n",
    "                    REFERENCES municipios_rio (id_municipio)\n",
    "             )''')\n",
    "conn.commit()"
   ]
  },
  {
   "cell_type": "markdown",
   "metadata": {},
   "source": [
    "Checa se todas as colunas da tabela foram adicionadas corretamente"
   ]
  },
  {
   "cell_type": "code",
   "execution_count": 15,
   "metadata": {},
   "outputs": [
    {
     "name": "stdout",
     "output_type": "stream",
     "text": [
      "[(0, 'id_rel', 'INTEGER', 0, None, 1), (1, 'id_dado', 'INT', 0, None, 0), (2, 'id_municipio', 'INT', 0, None, 0)]\n"
     ]
    }
   ],
   "source": [
    "cur.execute('''PRAGMA table_info(rel_municipios)''')\n",
    "print(cur.fetchall())"
   ]
  },
  {
   "cell_type": "code",
   "execution_count": 16,
   "metadata": {},
   "outputs": [],
   "source": [
    "cur.execute('''INSERT INTO rel_municipios (id_dado, id_municipio)\n",
    "                SELECT id_dado,id_municipio\n",
    "                FROM dados_ideb_rio;\n",
    "            ''')\n",
    "conn.commit()"
   ]
  },
  {
   "cell_type": "code",
   "execution_count": 17,
   "metadata": {},
   "outputs": [
    {
     "name": "stdout",
     "output_type": "stream",
     "text": [
      "[(1, 18479, 3300100), (2, 18480, 3300100), (3, 18481, 3300100), (4, 18482, 3300100), (5, 18483, 3300100), (6, 18484, 3300100), (7, 18485, 3300159), (8, 18488, 3300159), (9, 18489, 3300159), (10, 18490, 3300159)]\n"
     ]
    }
   ],
   "source": [
    "cur.execute(\"SELECT * FROM rel_municipios\")\n",
    "print(cur.fetchmany(10))"
   ]
  },
  {
   "cell_type": "markdown",
   "metadata": {},
   "source": [
    "Por fim, checamos se todas as tabelas foram criadas no banco de dados"
   ]
  },
  {
   "cell_type": "code",
   "execution_count": 18,
   "metadata": {},
   "outputs": [
    {
     "name": "stdout",
     "output_type": "stream",
     "text": [
      "[('sqlite_sequence',), ('rel_municipios',), ('pessoas_meta',), ('dados_ideb_rio_meta',), ('municipios_rio',), ('dados_ideb_rio',)]\n"
     ]
    }
   ],
   "source": [
    "cur.execute(\"SELECT name FROM sqlite_master WHERE type='table';\")\n",
    "print(cur.fetchall())"
   ]
  },
  {
   "cell_type": "markdown",
   "metadata": {},
   "source": [
    "### Adição de metadados <a class=\"anchor\" id=\"meta\"></a>"
   ]
  },
  {
   "cell_type": "markdown",
   "metadata": {},
   "source": [
    "Primeiro, como os limites dos municípios podem ser alterados ao longo do tempo, vamos adicionar a última data de modificação na tabela `municipios_rio`"
   ]
  },
  {
   "cell_type": "markdown",
   "metadata": {},
   "source": [
    "#### last_update"
   ]
  },
  {
   "cell_type": "code",
   "execution_count": 19,
   "metadata": {},
   "outputs": [],
   "source": [
    "cur.execute('''ALTER TABLE municipios_rio\n",
    "                ADD geom_last_update TEXT''')\n",
    "conn.commit()"
   ]
  },
  {
   "cell_type": "code",
   "execution_count": 20,
   "metadata": {},
   "outputs": [],
   "source": [
    "cur.execute('''UPDATE municipios_rio \n",
    "                SET geom_last_update = '2021-11-12' ''')\n",
    "conn.commit()"
   ]
  },
  {
   "cell_type": "markdown",
   "metadata": {},
   "source": [
    "Checando se os dados foram adicionados na tabela"
   ]
  },
  {
   "cell_type": "code",
   "execution_count": 21,
   "metadata": {},
   "outputs": [
    {
     "name": "stdout",
     "output_type": "stream",
     "text": [
      "[('2021-11-12',), ('2021-11-12',), ('2021-11-12',), ('2021-11-12',), ('2021-11-12',), ('2021-11-12',), ('2021-11-12',), ('2021-11-12',), ('2021-11-12',), ('2021-11-12',)]\n"
     ]
    }
   ],
   "source": [
    "cur.execute(\"SELECT geom_last_update FROM municipios_rio\")\n",
    "print(cur.fetchmany(10))"
   ]
  },
  {
   "cell_type": "markdown",
   "metadata": {},
   "source": [
    "#### media_nota"
   ]
  },
  {
   "cell_type": "code",
   "execution_count": 22,
   "metadata": {},
   "outputs": [],
   "source": [
    "cur.execute('''ALTER TABLE dados_ideb_rio\n",
    "                ADD media_nota REAL''')\n",
    "conn.commit()"
   ]
  },
  {
   "cell_type": "code",
   "execution_count": 23,
   "metadata": {},
   "outputs": [],
   "source": [
    "cur.execute('''UPDATE dados_ideb_rio \n",
    "                SET media_nota = ((nota_saeb_lingua_portuguesa + nota_saeb_matematica) / 2)''')\n",
    "\n",
    "conn.commit()"
   ]
  },
  {
   "cell_type": "markdown",
   "metadata": {},
   "source": [
    "Checando se as notas médias foram adicionadas na tabela"
   ]
  },
  {
   "cell_type": "code",
   "execution_count": 24,
   "metadata": {},
   "outputs": [
    {
     "name": "stdout",
     "output_type": "stream",
     "text": [
      "[(236.04,), (176.4,), (241.595,), (185.79,), (237.445,), (183.69,), (215.345,), (202.29,), (215.345,), (202.29,)]\n"
     ]
    }
   ],
   "source": [
    "cur.execute('''SELECT media_nota\n",
    "                FROM dados_ideb_rio''')\n",
    "\n",
    "print(cur.fetchmany(10))"
   ]
  },
  {
   "cell_type": "markdown",
   "metadata": {},
   "source": [
    "#### dados_ideb_rio_meta e pessoas_meta"
   ]
  },
  {
   "cell_type": "code",
   "execution_count": 25,
   "metadata": {},
   "outputs": [],
   "source": [
    "cur.execute('''CREATE TABLE IF NOT EXISTS pessoas_meta\n",
    "             ('id_pessoa' INT PRIMARY KEY,\n",
    "               'nome' TEXT,\n",
    "               'sobrenome' TEXT,\n",
    "               'email' TEXT,\n",
    "               'code_url' TEXT,\n",
    "               'website' TEXT)''')\n",
    "conn.commit()"
   ]
  },
  {
   "cell_type": "code",
   "execution_count": 26,
   "metadata": {},
   "outputs": [],
   "source": [
    "cur.execute('''CREATE TABLE IF NOT EXISTS dados_ideb_rio_meta\n",
    "             ('id_meta' INT PRIMARY KEY,\n",
    "             'conjunto' TEXT,\n",
    "             'tabela' TEXT,\n",
    "             'cobertura_espacial' TEXT,\n",
    "             'inicio_cobertura_temporal' INT,\n",
    "             'final_cobertura_temporal' INT,\n",
    "             'freq_atualizacao' INT,\n",
    "             'versao' REAL,\n",
    "             'publicado_por' INT,\n",
    "             'limpo_por' INT,\n",
    "             FOREIGN KEY (publicado_por)\n",
    "                REFERENCES pessoas_meta (id_pessoa)\n",
    "             FOREIGN KEY (limpo_por)\n",
    "                REFERENCES pessoas_meta (id_pessoa))''')\n",
    "conn.commit()"
   ]
  },
  {
   "cell_type": "code",
   "execution_count": 27,
   "metadata": {},
   "outputs": [],
   "source": [
    "cur.execute('''UPDATE dados_ideb_rio_meta \n",
    "                SET id_meta = 1,\n",
    "                        conjunto = 'br_inep_ideb',\n",
    "                        tabela = 'brasil',\n",
    "                        cobertura_espacial = 'Brasil',\n",
    "                        inicio_cobertura_temporal = '2005',\n",
    "                        final_cobertura_temporal = '2019',\n",
    "                        freq_atualizacao = '2',\n",
    "                        versao = '1.0',\n",
    "                        publicado_por = '1',\n",
    "                        limpo_por = '1' ''')\n",
    "conn.commit()"
   ]
  },
  {
   "cell_type": "code",
   "execution_count": 28,
   "metadata": {},
   "outputs": [
    {
     "name": "stdout",
     "output_type": "stream",
     "text": [
      "[(1, 'br_inep_ideb', 'brasil', 'Brasil', 2005, 2019, 2, 1.0, 1, 1)]\n"
     ]
    }
   ],
   "source": [
    "cur.execute('''SELECT * FROM dados_ideb_rio_meta''')\n",
    "print(cur.fetchmany(10))"
   ]
  },
  {
   "cell_type": "code",
   "execution_count": 29,
   "metadata": {},
   "outputs": [],
   "source": [
    "cur.execute('''UPDATE pessoas_meta \n",
    "                SET id_pessoa = 1,\n",
    "                        nome = 'Ricardo',\n",
    "                        sobrenome = 'Dahis',\n",
    "                        email = 'rdahis@basedosdados.org',\n",
    "                        code_url = 'https://github.com/basedosdados/mais/tree/master/bases/br_inep_ideb/code',\n",
    "                        website = 'www.ricardodahis.com'\n",
    "                        ''')\n",
    "conn.commit()"
   ]
  },
  {
   "cell_type": "code",
   "execution_count": 30,
   "metadata": {},
   "outputs": [
    {
     "name": "stdout",
     "output_type": "stream",
     "text": [
      "[(1, 'Ricardo', 'Dahis', 'rdahis@basedosdados.org', 'https://github.com/basedosdados/mais/tree/master/bases/br_inep_ideb/code', 'www.ricardodahis.com')]\n"
     ]
    }
   ],
   "source": [
    "cur.execute('''SELECT * FROM pessoas_meta''')\n",
    "print(cur.fetchmany(10))"
   ]
  },
  {
   "cell_type": "markdown",
   "metadata": {},
   "source": [
    "### Preparação para a análise <a class=\"anchor\" id=\"pre_ana\"></a>"
   ]
  },
  {
   "cell_type": "code",
   "execution_count": 31,
   "metadata": {},
   "outputs": [
    {
     "data": {
      "text/html": [
       "<div>\n",
       "<style scoped>\n",
       "    .dataframe tbody tr th:only-of-type {\n",
       "        vertical-align: middle;\n",
       "    }\n",
       "\n",
       "    .dataframe tbody tr th {\n",
       "        vertical-align: top;\n",
       "    }\n",
       "\n",
       "    .dataframe thead th {\n",
       "        text-align: right;\n",
       "    }\n",
       "</style>\n",
       "<table border=\"1\" class=\"dataframe\">\n",
       "  <thead>\n",
       "    <tr style=\"text-align: right;\">\n",
       "      <th></th>\n",
       "      <th>id_dado</th>\n",
       "      <th>ano</th>\n",
       "      <th>sigla_uf</th>\n",
       "      <th>id_municipio</th>\n",
       "      <th>rede</th>\n",
       "      <th>ensino</th>\n",
       "      <th>anos_escolares</th>\n",
       "      <th>taxa_aprovacao</th>\n",
       "      <th>indicador_rendimento</th>\n",
       "      <th>nota_saeb_matematica</th>\n",
       "      <th>nota_saeb_lingua_portuguesa</th>\n",
       "      <th>nota_saeb_media_padronizada</th>\n",
       "      <th>ideb</th>\n",
       "      <th>media_nota</th>\n",
       "      <th>index</th>\n",
       "      <th>id</th>\n",
       "      <th>name</th>\n",
       "      <th>geometry</th>\n",
       "      <th>geom_last_update</th>\n",
       "    </tr>\n",
       "  </thead>\n",
       "  <tbody>\n",
       "    <tr>\n",
       "      <th>0</th>\n",
       "      <td>18479</td>\n",
       "      <td>2005</td>\n",
       "      <td>RJ</td>\n",
       "      <td>3300100</td>\n",
       "      <td>estadual</td>\n",
       "      <td>fundamental</td>\n",
       "      <td>finais (6-9)</td>\n",
       "      <td>69.6</td>\n",
       "      <td>0.69632202</td>\n",
       "      <td>241.39</td>\n",
       "      <td>230.69</td>\n",
       "      <td>4.5339708</td>\n",
       "      <td>3.2</td>\n",
       "      <td>236.040</td>\n",
       "      <td>0</td>\n",
       "      <td>3300100</td>\n",
       "      <td>Angra dos Reis</td>\n",
       "      <td>POLYGON ((-44.1955721491 -23.0983083542, -44.1...</td>\n",
       "      <td>2021-11-12</td>\n",
       "    </tr>\n",
       "    <tr>\n",
       "      <th>1</th>\n",
       "      <td>18480</td>\n",
       "      <td>2005</td>\n",
       "      <td>RJ</td>\n",
       "      <td>3300100</td>\n",
       "      <td>estadual</td>\n",
       "      <td>fundamental</td>\n",
       "      <td>iniciais (1-5)</td>\n",
       "      <td>81.5</td>\n",
       "      <td>0.81477797</td>\n",
       "      <td>179.8</td>\n",
       "      <td>173</td>\n",
       "      <td>4.5396662</td>\n",
       "      <td>3.7</td>\n",
       "      <td>176.400</td>\n",
       "      <td>0</td>\n",
       "      <td>3300100</td>\n",
       "      <td>Angra dos Reis</td>\n",
       "      <td>POLYGON ((-44.1955721491 -23.0983083542, -44.1...</td>\n",
       "      <td>2021-11-12</td>\n",
       "    </tr>\n",
       "    <tr>\n",
       "      <th>2</th>\n",
       "      <td>18481</td>\n",
       "      <td>2005</td>\n",
       "      <td>RJ</td>\n",
       "      <td>3300100</td>\n",
       "      <td>municipal</td>\n",
       "      <td>fundamental</td>\n",
       "      <td>finais (6-9)</td>\n",
       "      <td>69.2</td>\n",
       "      <td>0.70024502</td>\n",
       "      <td>247.19</td>\n",
       "      <td>236</td>\n",
       "      <td>4.7203331</td>\n",
       "      <td>3.3</td>\n",
       "      <td>241.595</td>\n",
       "      <td>0</td>\n",
       "      <td>3300100</td>\n",
       "      <td>Angra dos Reis</td>\n",
       "      <td>POLYGON ((-44.1955721491 -23.0983083542, -44.1...</td>\n",
       "      <td>2021-11-12</td>\n",
       "    </tr>\n",
       "    <tr>\n",
       "      <th>3</th>\n",
       "      <td>18482</td>\n",
       "      <td>2005</td>\n",
       "      <td>RJ</td>\n",
       "      <td>3300100</td>\n",
       "      <td>municipal</td>\n",
       "      <td>fundamental</td>\n",
       "      <td>iniciais (1-5)</td>\n",
       "      <td>73.9</td>\n",
       "      <td>0.73932397</td>\n",
       "      <td>189.39</td>\n",
       "      <td>182.19</td>\n",
       "      <td>4.8886571</td>\n",
       "      <td>3.6</td>\n",
       "      <td>185.790</td>\n",
       "      <td>0</td>\n",
       "      <td>3300100</td>\n",
       "      <td>Angra dos Reis</td>\n",
       "      <td>POLYGON ((-44.1955721491 -23.0983083542, -44.1...</td>\n",
       "      <td>2021-11-12</td>\n",
       "    </tr>\n",
       "    <tr>\n",
       "      <th>4</th>\n",
       "      <td>18483</td>\n",
       "      <td>2005</td>\n",
       "      <td>RJ</td>\n",
       "      <td>3300100</td>\n",
       "      <td>publica</td>\n",
       "      <td>fundamental</td>\n",
       "      <td>finais (6-9)</td>\n",
       "      <td>69.4</td>\n",
       "      <td>0.69687301</td>\n",
       "      <td>242.89</td>\n",
       "      <td>232</td>\n",
       "      <td>4.5811672</td>\n",
       "      <td>3.2</td>\n",
       "      <td>237.445</td>\n",
       "      <td>0</td>\n",
       "      <td>3300100</td>\n",
       "      <td>Angra dos Reis</td>\n",
       "      <td>POLYGON ((-44.1955721491 -23.0983083542, -44.1...</td>\n",
       "      <td>2021-11-12</td>\n",
       "    </tr>\n",
       "  </tbody>\n",
       "</table>\n",
       "</div>"
      ],
      "text/plain": [
       "   id_dado   ano sigla_uf id_municipio       rede       ensino  \\\n",
       "0    18479  2005       RJ      3300100   estadual  fundamental   \n",
       "1    18480  2005       RJ      3300100   estadual  fundamental   \n",
       "2    18481  2005       RJ      3300100  municipal  fundamental   \n",
       "3    18482  2005       RJ      3300100  municipal  fundamental   \n",
       "4    18483  2005       RJ      3300100    publica  fundamental   \n",
       "\n",
       "   anos_escolares taxa_aprovacao indicador_rendimento nota_saeb_matematica  \\\n",
       "0    finais (6-9)           69.6           0.69632202               241.39   \n",
       "1  iniciais (1-5)           81.5           0.81477797                179.8   \n",
       "2    finais (6-9)           69.2           0.70024502               247.19   \n",
       "3  iniciais (1-5)           73.9           0.73932397               189.39   \n",
       "4    finais (6-9)           69.4           0.69687301               242.89   \n",
       "\n",
       "  nota_saeb_lingua_portuguesa nota_saeb_media_padronizada ideb  media_nota  \\\n",
       "0                      230.69                   4.5339708  3.2     236.040   \n",
       "1                         173                   4.5396662  3.7     176.400   \n",
       "2                         236                   4.7203331  3.3     241.595   \n",
       "3                      182.19                   4.8886571  3.6     185.790   \n",
       "4                         232                   4.5811672  3.2     237.445   \n",
       "\n",
       "   index       id            name  \\\n",
       "0      0  3300100  Angra dos Reis   \n",
       "1      0  3300100  Angra dos Reis   \n",
       "2      0  3300100  Angra dos Reis   \n",
       "3      0  3300100  Angra dos Reis   \n",
       "4      0  3300100  Angra dos Reis   \n",
       "\n",
       "                                            geometry geom_last_update  \n",
       "0  POLYGON ((-44.1955721491 -23.0983083542, -44.1...       2021-11-12  \n",
       "1  POLYGON ((-44.1955721491 -23.0983083542, -44.1...       2021-11-12  \n",
       "2  POLYGON ((-44.1955721491 -23.0983083542, -44.1...       2021-11-12  \n",
       "3  POLYGON ((-44.1955721491 -23.0983083542, -44.1...       2021-11-12  \n",
       "4  POLYGON ((-44.1955721491 -23.0983083542, -44.1...       2021-11-12  "
      ]
     },
     "execution_count": 31,
     "metadata": {},
     "output_type": "execute_result"
    }
   ],
   "source": [
    "dados = '''SELECT * FROM dados_ideb_rio d LEFT JOIN municipios_rio m ON d.id_municipio=m.id\n",
    "'''\n",
    "\n",
    "cur.execute(dados)\n",
    "df = pd.read_sql_query(dados, conn)\n",
    "df.head() "
   ]
  },
  {
   "cell_type": "markdown",
   "metadata": {},
   "source": [
    "Retiramos as colunas 'id' e 'index', pois o *id* está duplicada e o *index* não será utilizado."
   ]
  },
  {
   "cell_type": "code",
   "execution_count": 32,
   "metadata": {},
   "outputs": [],
   "source": [
    "df = df.drop(columns = ['id','index']) "
   ]
  },
  {
   "cell_type": "code",
   "execution_count": 33,
   "metadata": {},
   "outputs": [
    {
     "data": {
      "text/plain": [
       "id_dado                          int64\n",
       "ano                             object\n",
       "sigla_uf                        object\n",
       "id_municipio                    object\n",
       "rede                            object\n",
       "ensino                          object\n",
       "anos_escolares                  object\n",
       "taxa_aprovacao                  object\n",
       "indicador_rendimento            object\n",
       "nota_saeb_matematica            object\n",
       "nota_saeb_lingua_portuguesa     object\n",
       "nota_saeb_media_padronizada     object\n",
       "ideb                            object\n",
       "media_nota                     float64\n",
       "name                            object\n",
       "geometry                        object\n",
       "geom_last_update                object\n",
       "dtype: object"
      ]
     },
     "execution_count": 33,
     "metadata": {},
     "output_type": "execute_result"
    }
   ],
   "source": [
    "df.dtypes"
   ]
  },
  {
   "cell_type": "markdown",
   "metadata": {},
   "source": [
    "Agora, para conseguirmos plotar mapas, transformamos nossa base em uma *GeoDataFrame*:"
   ]
  },
  {
   "cell_type": "code",
   "execution_count": 34,
   "metadata": {},
   "outputs": [],
   "source": [
    "df = gpd.GeoDataFrame(df)"
   ]
  },
  {
   "cell_type": "code",
   "execution_count": 35,
   "metadata": {},
   "outputs": [
    {
     "data": {
      "text/plain": [
       "id_dado                          int64\n",
       "ano                             object\n",
       "sigla_uf                        object\n",
       "id_municipio                    object\n",
       "rede                            object\n",
       "ensino                          object\n",
       "anos_escolares                  object\n",
       "taxa_aprovacao                  object\n",
       "indicador_rendimento            object\n",
       "nota_saeb_matematica            object\n",
       "nota_saeb_lingua_portuguesa     object\n",
       "nota_saeb_media_padronizada     object\n",
       "ideb                            object\n",
       "media_nota                     float64\n",
       "name                            object\n",
       "geometry                        object\n",
       "geom_last_update                object\n",
       "dtype: object"
      ]
     },
     "execution_count": 35,
     "metadata": {},
     "output_type": "execute_result"
    }
   ],
   "source": [
    "df.dtypes # verifica o tipo de dado de cada coluna"
   ]
  },
  {
   "cell_type": "markdown",
   "metadata": {},
   "source": [
    "É possível observar que os dados da coluna geometria não são do tipo *geometry*, por isso vamos transformá-los. Além disso, também é necessário transformar os dados númericos em *float*, para que seja possível realizar as análises."
   ]
  },
  {
   "cell_type": "code",
   "execution_count": 36,
   "metadata": {},
   "outputs": [],
   "source": [
    "df['geometry'] = gpd.GeoSeries.from_wkt(df['geometry']) "
   ]
  },
  {
   "cell_type": "markdown",
   "metadata": {},
   "source": [
    "Utilizamos pandas para transformar os dados numéricos:"
   ]
  },
  {
   "cell_type": "code",
   "execution_count": 37,
   "metadata": {},
   "outputs": [],
   "source": [
    "df['taxa_aprovacao'] = pd.to_numeric(df['taxa_aprovacao'],errors='coerce')\n",
    "df['indicador_rendimento'] = pd.to_numeric(df['indicador_rendimento'],errors='coerce')\n",
    "df['nota_saeb_matematica'] = pd.to_numeric(df['nota_saeb_matematica'],errors='coerce')\n",
    "df['nota_saeb_lingua_portuguesa'] = pd.to_numeric(df['nota_saeb_lingua_portuguesa'],errors='coerce')\n",
    "df['nota_saeb_media_padronizada'] = pd.to_numeric(df['nota_saeb_media_padronizada'],errors='coerce')\n",
    "df['ideb'] = pd.to_numeric(df['ideb'],errors='coerce')"
   ]
  },
  {
   "cell_type": "code",
   "execution_count": 38,
   "metadata": {},
   "outputs": [
    {
     "data": {
      "text/plain": [
       "id_dado                           int64\n",
       "ano                              object\n",
       "sigla_uf                         object\n",
       "id_municipio                     object\n",
       "rede                             object\n",
       "ensino                           object\n",
       "anos_escolares                   object\n",
       "taxa_aprovacao                  float64\n",
       "indicador_rendimento            float64\n",
       "nota_saeb_matematica            float64\n",
       "nota_saeb_lingua_portuguesa     float64\n",
       "nota_saeb_media_padronizada     float64\n",
       "ideb                            float64\n",
       "media_nota                      float64\n",
       "name                             object\n",
       "geometry                       geometry\n",
       "geom_last_update                 object\n",
       "dtype: object"
      ]
     },
     "execution_count": 38,
     "metadata": {},
     "output_type": "execute_result"
    }
   ],
   "source": [
    "df.dtypes"
   ]
  },
  {
   "cell_type": "markdown",
   "metadata": {},
   "source": [
    "Finalmente, podemos começar a plotar os mapas e realizar as análises."
   ]
  },
  {
   "cell_type": "markdown",
   "metadata": {},
   "source": [
    "## Análise Exploratória <a class=\"anchor\" id=\"analise\"></a>"
   ]
  },
  {
   "cell_type": "markdown",
   "metadata": {},
   "source": [
    "Estamos utilizando uma base rica em dados que nos permite uma grande variedade de tipos de análises. \n",
    "\n",
    "Vamos começar analisando quais municípios se destacam na educação básica, a partir do Ideb, das taxas de aprovação e dos índices de rendimento."
   ]
  },
  {
   "cell_type": "code",
   "execution_count": 39,
   "metadata": {},
   "outputs": [
    {
     "data": {
      "text/html": [
       "<div>\n",
       "<style scoped>\n",
       "    .dataframe tbody tr th:only-of-type {\n",
       "        vertical-align: middle;\n",
       "    }\n",
       "\n",
       "    .dataframe tbody tr th {\n",
       "        vertical-align: top;\n",
       "    }\n",
       "\n",
       "    .dataframe thead th {\n",
       "        text-align: right;\n",
       "    }\n",
       "</style>\n",
       "<table border=\"1\" class=\"dataframe\">\n",
       "  <thead>\n",
       "    <tr style=\"text-align: right;\">\n",
       "      <th></th>\n",
       "      <th>ideb</th>\n",
       "      <th>taxa_aprovacao</th>\n",
       "      <th>indicador_rendimento</th>\n",
       "    </tr>\n",
       "    <tr>\n",
       "      <th>name</th>\n",
       "      <th></th>\n",
       "      <th></th>\n",
       "      <th></th>\n",
       "    </tr>\n",
       "  </thead>\n",
       "  <tbody>\n",
       "    <tr>\n",
       "      <th>Santo Antônio de Pádua</th>\n",
       "      <td>5.189362</td>\n",
       "      <td>91.170833</td>\n",
       "      <td>0.912127</td>\n",
       "    </tr>\n",
       "    <tr>\n",
       "      <th>Trajano de Moraes</th>\n",
       "      <td>5.092308</td>\n",
       "      <td>87.987805</td>\n",
       "      <td>0.882319</td>\n",
       "    </tr>\n",
       "    <tr>\n",
       "      <th>Sumidouro</th>\n",
       "      <td>5.022222</td>\n",
       "      <td>85.637838</td>\n",
       "      <td>0.858170</td>\n",
       "    </tr>\n",
       "    <tr>\n",
       "      <th>Itaocara</th>\n",
       "      <td>4.952083</td>\n",
       "      <td>85.008163</td>\n",
       "      <td>0.852302</td>\n",
       "    </tr>\n",
       "    <tr>\n",
       "      <th>Itaperuna</th>\n",
       "      <td>4.942000</td>\n",
       "      <td>89.847059</td>\n",
       "      <td>0.899680</td>\n",
       "    </tr>\n",
       "    <tr>\n",
       "      <th>...</th>\n",
       "      <td>...</td>\n",
       "      <td>...</td>\n",
       "      <td>...</td>\n",
       "    </tr>\n",
       "    <tr>\n",
       "      <th>São Gonçalo</th>\n",
       "      <td>3.604000</td>\n",
       "      <td>75.914000</td>\n",
       "      <td>0.761026</td>\n",
       "    </tr>\n",
       "    <tr>\n",
       "      <th>Duque de Caxias</th>\n",
       "      <td>3.603922</td>\n",
       "      <td>76.709804</td>\n",
       "      <td>0.772001</td>\n",
       "    </tr>\n",
       "    <tr>\n",
       "      <th>São João de Meriti</th>\n",
       "      <td>3.589796</td>\n",
       "      <td>77.993878</td>\n",
       "      <td>0.787206</td>\n",
       "    </tr>\n",
       "    <tr>\n",
       "      <th>Belford Roxo</th>\n",
       "      <td>3.470833</td>\n",
       "      <td>76.719608</td>\n",
       "      <td>0.773056</td>\n",
       "    </tr>\n",
       "    <tr>\n",
       "      <th>Japeri</th>\n",
       "      <td>3.440000</td>\n",
       "      <td>79.976087</td>\n",
       "      <td>0.797006</td>\n",
       "    </tr>\n",
       "  </tbody>\n",
       "</table>\n",
       "<p>92 rows × 3 columns</p>\n",
       "</div>"
      ],
      "text/plain": [
       "                            ideb  taxa_aprovacao  indicador_rendimento\n",
       "name                                                                  \n",
       "Santo Antônio de Pádua  5.189362       91.170833              0.912127\n",
       "Trajano de Moraes       5.092308       87.987805              0.882319\n",
       "Sumidouro               5.022222       85.637838              0.858170\n",
       "Itaocara                4.952083       85.008163              0.852302\n",
       "Itaperuna               4.942000       89.847059              0.899680\n",
       "...                          ...             ...                   ...\n",
       "São Gonçalo             3.604000       75.914000              0.761026\n",
       "Duque de Caxias         3.603922       76.709804              0.772001\n",
       "São João de Meriti      3.589796       77.993878              0.787206\n",
       "Belford Roxo            3.470833       76.719608              0.773056\n",
       "Japeri                  3.440000       79.976087              0.797006\n",
       "\n",
       "[92 rows x 3 columns]"
      ]
     },
     "execution_count": 39,
     "metadata": {},
     "output_type": "execute_result"
    }
   ],
   "source": [
    "rank_ideb = df[['name', 'ideb', 'taxa_aprovacao', 'indicador_rendimento'\n",
    "]].groupby(['name']).mean(['ideb', 'taxa_aprovacao', 'indicador_rendimento']).sort_values('ideb',ascending=False)\n",
    "# ordenando acordo com o ideb de forma descrescente\n",
    "\n",
    "rank_ideb"
   ]
  },
  {
   "cell_type": "code",
   "execution_count": 40,
   "metadata": {},
   "outputs": [
    {
     "data": {
      "text/plain": [
       "Text(0.5, 1.0, 'Ideb por munícipio')"
      ]
     },
     "execution_count": 40,
     "metadata": {},
     "output_type": "execute_result"
    },
    {
     "data": {
      "image/png": "[encoded data removed]",
      "text/plain": [
       "<Figure size 864x864 with 1 Axes>"
      ]
     },
     "metadata": {
      "needs_background": "light"
     },
     "output_type": "display_data"
    }
   ],
   "source": [
    "ideb_mun = df.plot(\n",
    "    column=\"ideb\",\n",
    "    figsize=(12, 12), \n",
    "    edgecolor = 'black', \n",
    "    linewidth = 0.05,\n",
    "    legend=True,\n",
    "    cmap='Blues',\n",
    "    scheme=\"natural_breaks\")\n",
    "\n",
    "ideb_mun.set_axis_off()\n",
    "ideb_mun.set_title('Ideb por munícipio')"
   ]
  },
  {
   "cell_type": "code",
   "execution_count": 41,
   "metadata": {},
   "outputs": [
    {
     "data": {
      "text/plain": [
       "Text(0.5, 1.0, 'Taxa de aprovação por munícipio')"
      ]
     },
     "execution_count": 41,
     "metadata": {},
     "output_type": "execute_result"
    },
    {
     "data": {
      "image/png": "[encoded data removed]",
      "text/plain": [
       "<Figure size 864x864 with 1 Axes>"
      ]
     },
     "metadata": {
      "needs_background": "light"
     },
     "output_type": "display_data"
    }
   ],
   "source": [
    "aprov_mun = df.plot(\n",
    "    column=\"taxa_aprovacao\",\n",
    "    figsize=(12, 12), \n",
    "    edgecolor = 'black', \n",
    "    linewidth = 0.05,\n",
    "    legend=True,\n",
    "    cmap='Greens',\n",
    "    scheme=\"natural_breaks\")\n",
    "\n",
    "aprov_mun.set_axis_off()\n",
    "aprov_mun.set_title('Taxa de aprovação por munícipio')"
   ]
  },
  {
   "cell_type": "code",
   "execution_count": 42,
   "metadata": {},
   "outputs": [
    {
     "data": {
      "text/plain": [
       "Text(0.5, 1.0, 'Indicador de rendimento por munícipio')"
      ]
     },
     "execution_count": 42,
     "metadata": {},
     "output_type": "execute_result"
    },
    {
     "data": {
      "image/png": "[encoded data removed]",
      "text/plain": [
       "<Figure size 864x864 with 1 Axes>"
      ]
     },
     "metadata": {
      "needs_background": "light"
     },
     "output_type": "display_data"
    }
   ],
   "source": [
    "rendimento_mun = df.plot(\n",
    "    column=\"indicador_rendimento\",\n",
    "    figsize=(12, 12), \n",
    "    edgecolor = 'black', \n",
    "    linewidth = 0.05,\n",
    "    legend=True,\n",
    "    cmap='Purples',\n",
    "    scheme=\"natural_breaks\")\n",
    "\n",
    "rendimento_mun.set_axis_off()\n",
    "rendimento_mun.set_title('Indicador de rendimento por munícipio')"
   ]
  },
  {
   "cell_type": "markdown",
   "metadata": {},
   "source": [
    "Através desses três mapas é possível observar que os municípios que apresentam os maiores indicadores são, em geral, os mesmos e que eles sem concentram principalmente na região norte do estado."
   ]
  }
 ],
 "metadata": {
  "kernelspec": {
   "display_name": "Python 3",
   "language": "python",
   "name": "python3"
  },
  "language_info": {
   "codemirror_mode": {
    "name": "ipython",
    "version": 3
   },
   "file_extension": ".py",
   "mimetype": "text/x-python",
   "name": "python",
   "nbconvert_exporter": "python",
   "pygments_lexer": "ipython3",
   "version": "3.8.8"
  }
 },
 "nbformat": 4,
 "nbformat_minor": 4
}
