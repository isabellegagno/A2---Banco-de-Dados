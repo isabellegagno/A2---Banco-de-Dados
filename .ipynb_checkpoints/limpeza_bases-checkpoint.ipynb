{
 "cells": [
  {
   "cell_type": "markdown",
   "metadata": {},
   "source": [
    "## Bibliotecas necessárias"
   ]
  },
  {
   "cell_type": "code",
   "execution_count": 1,
   "metadata": {},
   "outputs": [],
   "source": [
    "import numpy as np\n",
    "import pandas as pd\n",
    "import geopandas as gpd\n",
    "from sqlalchemy import create_engine\n",
    "from geoalchemy2 import Geometry\n",
    "import sqlite3"
   ]
  },
  {
   "cell_type": "markdown",
   "metadata": {},
   "source": [
    "Used [DownGit](https://downgit.github.io/#/home) to download the .json file from [Telmo's repository](https://github.com/tbrugz/geodata-br/blob/master/geojson/geojs-33-mun.json)"
   ]
  },
  {
   "cell_type": "markdown",
   "metadata": {},
   "source": [
    "## Lendo a primeira base"
   ]
  },
  {
   "cell_type": "markdown",
   "metadata": {},
   "source": [
    "A coluna description é igual à coluna name, então vamos retirá-la"
   ]
  },
  {
   "cell_type": "code",
   "execution_count": 8,
   "metadata": {},
   "outputs": [
    {
     "name": "stdout",
     "output_type": "stream",
     "text": [
      "<class 'geopandas.geodataframe.GeoDataFrame'>\n"
     ]
    },
    {
     "data": {
      "text/html": [
       "<div>\n",
       "<style scoped>\n",
       "    .dataframe tbody tr th:only-of-type {\n",
       "        vertical-align: middle;\n",
       "    }\n",
       "\n",
       "    .dataframe tbody tr th {\n",
       "        vertical-align: top;\n",
       "    }\n",
       "\n",
       "    .dataframe thead th {\n",
       "        text-align: right;\n",
       "    }\n",
       "</style>\n",
       "<table border=\"1\" class=\"dataframe\">\n",
       "  <thead>\n",
       "    <tr style=\"text-align: right;\">\n",
       "      <th></th>\n",
       "      <th>id</th>\n",
       "      <th>name</th>\n",
       "      <th>geometry</th>\n",
       "    </tr>\n",
       "  </thead>\n",
       "  <tbody>\n",
       "    <tr>\n",
       "      <th>0</th>\n",
       "      <td>3300100</td>\n",
       "      <td>Angra dos Reis</td>\n",
       "      <td>POLYGON ((-44.19557 -23.09831, -44.19445 -23.1...</td>\n",
       "    </tr>\n",
       "    <tr>\n",
       "      <th>1</th>\n",
       "      <td>3300159</td>\n",
       "      <td>Aperibé</td>\n",
       "      <td>POLYGON ((-42.11517 -21.60398, -42.11585 -21.6...</td>\n",
       "    </tr>\n",
       "    <tr>\n",
       "      <th>2</th>\n",
       "      <td>3300209</td>\n",
       "      <td>Araruama</td>\n",
       "      <td>POLYGON ((-42.18220 -22.55217, -42.13226 -22.6...</td>\n",
       "    </tr>\n",
       "    <tr>\n",
       "      <th>3</th>\n",
       "      <td>3300225</td>\n",
       "      <td>Areal</td>\n",
       "      <td>POLYGON ((-43.05873 -22.18937, -43.04773 -22.2...</td>\n",
       "    </tr>\n",
       "    <tr>\n",
       "      <th>4</th>\n",
       "      <td>3300233</td>\n",
       "      <td>Armação dos Búzios</td>\n",
       "      <td>POLYGON ((-41.93436 -22.76580, -41.91900 -22.7...</td>\n",
       "    </tr>\n",
       "  </tbody>\n",
       "</table>\n",
       "</div>"
      ],
      "text/plain": [
       "        id                name  \\\n",
       "0  3300100      Angra dos Reis   \n",
       "1  3300159             Aperibé   \n",
       "2  3300209            Araruama   \n",
       "3  3300225               Areal   \n",
       "4  3300233  Armação dos Búzios   \n",
       "\n",
       "                                            geometry  \n",
       "0  POLYGON ((-44.19557 -23.09831, -44.19445 -23.1...  \n",
       "1  POLYGON ((-42.11517 -21.60398, -42.11585 -21.6...  \n",
       "2  POLYGON ((-42.18220 -22.55217, -42.13226 -22.6...  \n",
       "3  POLYGON ((-43.05873 -22.18937, -43.04773 -22.2...  \n",
       "4  POLYGON ((-41.93436 -22.76580, -41.91900 -22.7...  "
      ]
     },
     "execution_count": 8,
     "metadata": {},
     "output_type": "execute_result"
    }
   ],
   "source": [
    "zipfile = \"geojs-33-mun.json.zip\"\n",
    "rio_municipios = gpd.read_file(zipfile)\n",
    "rio_municipios = rio_municipios.drop(columns = 'description')\n",
    "\n",
    "print(type(rio_municipios))\n",
    "\n",
    "rio_municipios.head()"
   ]
  },
  {
   "cell_type": "code",
   "execution_count": 7,
   "metadata": {},
   "outputs": [
    {
     "data": {
      "text/html": [
       "<div>\n",
       "<style scoped>\n",
       "    .dataframe tbody tr th:only-of-type {\n",
       "        vertical-align: middle;\n",
       "    }\n",
       "\n",
       "    .dataframe tbody tr th {\n",
       "        vertical-align: top;\n",
       "    }\n",
       "\n",
       "    .dataframe thead th {\n",
       "        text-align: right;\n",
       "    }\n",
       "</style>\n",
       "<table border=\"1\" class=\"dataframe\">\n",
       "  <thead>\n",
       "    <tr style=\"text-align: right;\">\n",
       "      <th></th>\n",
       "      <th>id</th>\n",
       "      <th>name</th>\n",
       "      <th>geometry</th>\n",
       "      <th>codigo</th>\n",
       "    </tr>\n",
       "  </thead>\n",
       "  <tbody>\n",
       "    <tr>\n",
       "      <th>87</th>\n",
       "      <td>3306008</td>\n",
       "      <td>Três Rios</td>\n",
       "      <td>POLYGON ((-43.14554 -22.09725, -43.13612 -22.1...</td>\n",
       "      <td>3306008</td>\n",
       "    </tr>\n",
       "    <tr>\n",
       "      <th>88</th>\n",
       "      <td>3306107</td>\n",
       "      <td>Valença</td>\n",
       "      <td>POLYGON ((-43.76557 -22.06243, -43.76344 -22.0...</td>\n",
       "      <td>3306107</td>\n",
       "    </tr>\n",
       "    <tr>\n",
       "      <th>89</th>\n",
       "      <td>3306156</td>\n",
       "      <td>Varre-Sai</td>\n",
       "      <td>POLYGON ((-41.75527 -20.80706, -41.75000 -20.8...</td>\n",
       "      <td>3306156</td>\n",
       "    </tr>\n",
       "    <tr>\n",
       "      <th>90</th>\n",
       "      <td>3306206</td>\n",
       "      <td>Vassouras</td>\n",
       "      <td>POLYGON ((-43.45624 -22.21610, -43.43097 -22.2...</td>\n",
       "      <td>3306206</td>\n",
       "    </tr>\n",
       "    <tr>\n",
       "      <th>91</th>\n",
       "      <td>3306305</td>\n",
       "      <td>Volta Redonda</td>\n",
       "      <td>POLYGON ((-44.02940 -22.51965, -44.03532 -22.5...</td>\n",
       "      <td>3306305</td>\n",
       "    </tr>\n",
       "  </tbody>\n",
       "</table>\n",
       "</div>"
      ],
      "text/plain": [
       "         id           name                                           geometry  \\\n",
       "87  3306008      Três Rios  POLYGON ((-43.14554 -22.09725, -43.13612 -22.1...   \n",
       "88  3306107        Valença  POLYGON ((-43.76557 -22.06243, -43.76344 -22.0...   \n",
       "89  3306156      Varre-Sai  POLYGON ((-41.75527 -20.80706, -41.75000 -20.8...   \n",
       "90  3306206      Vassouras  POLYGON ((-43.45624 -22.21610, -43.43097 -22.2...   \n",
       "91  3306305  Volta Redonda  POLYGON ((-44.02940 -22.51965, -44.03532 -22.5...   \n",
       "\n",
       "     codigo  \n",
       "87  3306008  \n",
       "88  3306107  \n",
       "89  3306156  \n",
       "90  3306206  \n",
       "91  3306305  "
      ]
     },
     "execution_count": 7,
     "metadata": {},
     "output_type": "execute_result"
    }
   ],
   "source": [
    "codigos = pd.Series (['3300100','3300159','3300209','3300225','3300233','3300258','3300308','3300407','3300456',\n",
    "                      '3300506','3300605','3300704','3300803','3300902','3300936','3301009','3300951','3301108',\n",
    "                      '3301157','3301207','3301306','3301405','3301504','3301603','3301702','3301801','3301850',\n",
    "                      '3301876','3301900','3302007','3302056','3302106','3302205','3302254','3302270','3302304',\n",
    "                      '3302403','3302452','3302502','3302601','3302700','3302809','3302858','3302908','3303005',\n",
    "                      '3303104','3303203','3303302','3303401','3303500','3303609','3303708','3303807','3303856',\n",
    "                      '3303906','3303955','3304003','3304102','3304110','3304128','3304144','3304151','3304201',\n",
    "                      '3304300','3304409','3304508','3304524','3304557','3304607','3304706','3304755','3304805',\n",
    "                      '3304904','3305000','3305109','3305133','3305158','3305208','3305307','3305406','3305505',\n",
    "                      '3305554','3305604','3305703','3305752','3305802','3305901','3306008','3306107','3306156',\n",
    "                      '3306206','3306305'])\n",
    "\n",
    "rio_municipios['codigo']=codigos.values\n",
    "rio_municipios.tail()"
   ]
  }
 ],
 "metadata": {
  "kernelspec": {
   "display_name": "Python 3",
   "language": "python",
   "name": "python3"
  },
  "language_info": {
   "codemirror_mode": {
    "name": "ipython",
    "version": 3
   },
   "file_extension": ".py",
   "mimetype": "text/x-python",
   "name": "python",
   "nbconvert_exporter": "python",
   "pygments_lexer": "ipython3",
   "version": "3.7.6"
  }
 },
 "nbformat": 4,
 "nbformat_minor": 4
}
